{
  "nbformat": 4,
  "nbformat_minor": 0,
  "metadata": {
    "colab": {
      "name": "Embeddings Experiment.ipynb",
      "provenance": [],
      "collapsed_sections": [
        "ADUtdtHBpVrO",
        "DryDXBn3pZX7",
        "Zr3FP7gi0K7T",
        "0q8bN_wvPWzY"
      ]
    },
    "kernelspec": {
      "name": "python3",
      "display_name": "Python 3"
    },
    "language_info": {
      "name": "python"
    },
    "accelerator": "GPU"
  },
  "cells": [
    {
      "cell_type": "markdown",
      "metadata": {
        "id": "wIvsQu-W3PhH"
      },
      "source": [
        "# Embeddings Experiment Notebook\n",
        "**Adam Watkins Master Thesis**\n",
        "\n",
        "**Sep 29 2021**\n",
        "\n",
        "This is the first experiment contained in the thesis. This experiment tests to see how GloVe embeddings perform compared to BERT embeddings to predict daily changes in volatility as measured by the CBOE Volatility Index (VIX). Both embedding methods are entered into an artificial neural network and their performance is tested.\n",
        "\n",
        "Optimal hyperparameters were found using GridSearch.\n"
      ]
    },
    {
      "cell_type": "code",
      "metadata": {
        "id": "LMd1JZFWItA8"
      },
      "source": [
        "path = \"add path to folder where data is contained here\""
      ],
      "execution_count": null,
      "outputs": []
    },
    {
      "cell_type": "markdown",
      "metadata": {
        "id": "ADUtdtHBpVrO"
      },
      "source": [
        "## Load libraries"
      ]
    },
    {
      "cell_type": "code",
      "metadata": {
        "id": "lboAHYTCs9ry"
      },
      "source": [
        "from IPython.core.debugger import set_trace\n",
        "\n",
        "import matplotlib.pyplot as plt\n",
        "import seaborn as sns\n",
        "\n",
        "import pandas as pd\n",
        "import numpy as np\n",
        "import os\n",
        "import matplotlib.pyplot as plt\n",
        "import time\n",
        "\n",
        "from keras import backend as K\n",
        "import tensorflow as tf\n",
        "import random\n",
        "from sklearn.metrics import accuracy_score, precision_score, recall_score, f1_score, mean_absolute_error, mean_squared_error\n",
        "from sklearn.preprocessing import StandardScaler\n",
        "from sklearn.metrics import multilabel_confusion_matrix\n",
        "\n",
        "\n",
        "from keras.callbacks import EarlyStopping\n",
        "\n",
        "from keras.models import Sequential\n",
        "from keras.layers import Embedding, LSTM, Dense, Dropout, Flatten\n",
        "from keras.initializers import Constant\n",
        "from tensorflow.keras.optimizers import Adam\n",
        "from tensorflow.keras.optimizers import Adamax\n",
        "from tensorflow.keras.optimizers import RMSprop\n",
        "from keras.callbacks import LearningRateScheduler\n",
        "\n",
        "import string\n",
        "\n",
        "import nltk\n",
        "nltk.download('stopwords')\n",
        "from nltk.corpus import stopwords\n",
        "\n",
        "from nltk.tokenize import word_tokenize\n",
        "import nltk\n",
        "nltk.download('punkt')\n",
        "\n",
        "from keras.preprocessing.text import Tokenizer\n",
        "from keras.preprocessing.sequence import pad_sequences"
      ],
      "execution_count": null,
      "outputs": []
    },
    {
      "cell_type": "markdown",
      "metadata": {
        "id": "JBKqiQrnAuCq"
      },
      "source": [
        "## Create GloVe Embeddings\n",
        "This section was not included in the original thesis submission but because the GloVe embeddings were too large to upload to Github, here is the original code to create them."
      ]
    },
    {
      "cell_type": "code",
      "metadata": {
        "colab": {
          "base_uri": "https://localhost:8080/"
        },
        "id": "h3G_4EH3scLP",
        "outputId": "3987e6a9-ac84-4499-8a6b-325747e3b98f"
      },
      "source": [
        "!wget http://nlp.stanford.edu/data/glove.6B.zip\n",
        "!unzip glove*.zip"
      ],
      "execution_count": null,
      "outputs": [
        {
          "output_type": "stream",
          "name": "stdout",
          "text": [
            "--2021-10-01 08:32:47--  http://nlp.stanford.edu/data/glove.6B.zip\n",
            "Resolving nlp.stanford.edu (nlp.stanford.edu)... 171.64.67.140\n",
            "Connecting to nlp.stanford.edu (nlp.stanford.edu)|171.64.67.140|:80... connected.\n",
            "HTTP request sent, awaiting response... 302 Found\n",
            "Location: https://nlp.stanford.edu/data/glove.6B.zip [following]\n",
            "--2021-10-01 08:32:47--  https://nlp.stanford.edu/data/glove.6B.zip\n",
            "Connecting to nlp.stanford.edu (nlp.stanford.edu)|171.64.67.140|:443... connected.\n",
            "HTTP request sent, awaiting response... 301 Moved Permanently\n",
            "Location: http://downloads.cs.stanford.edu/nlp/data/glove.6B.zip [following]\n",
            "--2021-10-01 08:32:47--  http://downloads.cs.stanford.edu/nlp/data/glove.6B.zip\n",
            "Resolving downloads.cs.stanford.edu (downloads.cs.stanford.edu)... 171.64.64.22\n",
            "Connecting to downloads.cs.stanford.edu (downloads.cs.stanford.edu)|171.64.64.22|:80... connected.\n",
            "HTTP request sent, awaiting response... 200 OK\n",
            "Length: 862182613 (822M) [application/zip]\n",
            "Saving to: ‘glove.6B.zip’\n",
            "\n",
            "glove.6B.zip        100%[===================>] 822.24M  4.99MB/s    in 2m 41s  \n",
            "\n",
            "2021-10-01 08:35:29 (5.11 MB/s) - ‘glove.6B.zip’ saved [862182613/862182613]\n",
            "\n",
            "Archive:  glove.6B.zip\n",
            "  inflating: glove.6B.50d.txt        \n",
            "  inflating: glove.6B.100d.txt       \n",
            "  inflating: glove.6B.200d.txt       \n",
            "  inflating: glove.6B.300d.txt       \n"
          ]
        }
      ]
    },
    {
      "cell_type": "code",
      "metadata": {
        "colab": {
          "base_uri": "https://localhost:8080/",
          "height": 424
        },
        "id": "-P5NgEwYZOTQ",
        "outputId": "ab1d590c-da28-4fcd-a27d-9ff0593b45c5"
      },
      "source": [
        "df = pd.read_csv(path + 'headlines.csv', header=0)\n",
        "df"
      ],
      "execution_count": null,
      "outputs": [
        {
          "output_type": "execute_result",
          "data": {
            "text/html": [
              "<div>\n",
              "<style scoped>\n",
              "    .dataframe tbody tr th:only-of-type {\n",
              "        vertical-align: middle;\n",
              "    }\n",
              "\n",
              "    .dataframe tbody tr th {\n",
              "        vertical-align: top;\n",
              "    }\n",
              "\n",
              "    .dataframe thead th {\n",
              "        text-align: right;\n",
              "    }\n",
              "</style>\n",
              "<table border=\"1\" class=\"dataframe\">\n",
              "  <thead>\n",
              "    <tr style=\"text-align: right;\">\n",
              "      <th></th>\n",
              "      <th>date</th>\n",
              "      <th>headline</th>\n",
              "    </tr>\n",
              "  </thead>\n",
              "  <tbody>\n",
              "    <tr>\n",
              "      <th>0</th>\n",
              "      <td>2007-01-01</td>\n",
              "      <td>AT&amp;T; closes $86 billion BellSouth deal</td>\n",
              "    </tr>\n",
              "    <tr>\n",
              "      <th>1</th>\n",
              "      <td>2007-01-01</td>\n",
              "      <td>Apple posts options expenses, stands by CEO Jobs</td>\n",
              "    </tr>\n",
              "    <tr>\n",
              "      <th>2</th>\n",
              "      <td>2007-01-02</td>\n",
              "      <td>Two senior execs leave Bank of America</td>\n",
              "    </tr>\n",
              "    <tr>\n",
              "      <th>3</th>\n",
              "      <td>2007-01-02</td>\n",
              "      <td>Apple options probe spotlights ex-officials: p...</td>\n",
              "    </tr>\n",
              "    <tr>\n",
              "      <th>4</th>\n",
              "      <td>2007-01-03</td>\n",
              "      <td>Pepsi Bottling says recorded $55 mln benefit i...</td>\n",
              "    </tr>\n",
              "    <tr>\n",
              "      <th>...</th>\n",
              "      <td>...</td>\n",
              "      <td>...</td>\n",
              "    </tr>\n",
              "    <tr>\n",
              "      <th>35888</th>\n",
              "      <td>2016-08-12</td>\n",
              "      <td>BRIEF-Microsoft buys Beam interactive livestre...</td>\n",
              "    </tr>\n",
              "    <tr>\n",
              "      <th>35889</th>\n",
              "      <td>2016-08-16</td>\n",
              "      <td>BRIEF-BofA credit card delinquency and net-cha...</td>\n",
              "    </tr>\n",
              "    <tr>\n",
              "      <th>35890</th>\n",
              "      <td>2016-08-16</td>\n",
              "      <td>BRIEF-Jana Partners dissolves sole share stake...</td>\n",
              "    </tr>\n",
              "    <tr>\n",
              "      <th>35891</th>\n",
              "      <td>2016-08-16</td>\n",
              "      <td>BRIEF-Omega Advisors dissolves share stake in ...</td>\n",
              "    </tr>\n",
              "    <tr>\n",
              "      <th>35892</th>\n",
              "      <td>2016-08-16</td>\n",
              "      <td>BRIEF-Omega Advisors takes stake in Netflix, c...</td>\n",
              "    </tr>\n",
              "  </tbody>\n",
              "</table>\n",
              "<p>35893 rows × 2 columns</p>\n",
              "</div>"
            ],
            "text/plain": [
              "             date                                           headline\n",
              "0      2007-01-01            AT&T; closes $86 billion BellSouth deal\n",
              "1      2007-01-01   Apple posts options expenses, stands by CEO Jobs\n",
              "2      2007-01-02             Two senior execs leave Bank of America\n",
              "3      2007-01-02  Apple options probe spotlights ex-officials: p...\n",
              "4      2007-01-03  Pepsi Bottling says recorded $55 mln benefit i...\n",
              "...           ...                                                ...\n",
              "35888  2016-08-12  BRIEF-Microsoft buys Beam interactive livestre...\n",
              "35889  2016-08-16  BRIEF-BofA credit card delinquency and net-cha...\n",
              "35890  2016-08-16  BRIEF-Jana Partners dissolves sole share stake...\n",
              "35891  2016-08-16  BRIEF-Omega Advisors dissolves share stake in ...\n",
              "35892  2016-08-16  BRIEF-Omega Advisors takes stake in Netflix, c...\n",
              "\n",
              "[35893 rows x 2 columns]"
            ]
          },
          "metadata": {},
          "execution_count": 6
        }
      ]
    },
    {
      "cell_type": "code",
      "metadata": {
        "colab": {
          "base_uri": "https://localhost:8080/",
          "height": 424
        },
        "id": "FsikK5sdaF02",
        "outputId": "4332a9b0-bfd1-42b9-960a-767662591b2c"
      },
      "source": [
        "df['headline'] = df['headline'].str.replace('%', ' percent')\n",
        "df['headline'] = df['headline'].str.replace('[^a-zA-Z]', ' ')\n",
        "df['headline'] = df['headline'].str.replace('U S', 'United States')\n",
        "df['headline'] = df['headline'].str.replace('U K', 'United Kingdom')\n",
        "df['headline'] = df['headline'].str.replace('  ', ' ')\n",
        "df['headline'] = df['headline'].str.replace('S P', 'S&P')\n",
        "df['headline'] = df['headline'].str.replace('AT T', 'AT&T')\n",
        "df"
      ],
      "execution_count": null,
      "outputs": [
        {
          "output_type": "execute_result",
          "data": {
            "text/html": [
              "<div>\n",
              "<style scoped>\n",
              "    .dataframe tbody tr th:only-of-type {\n",
              "        vertical-align: middle;\n",
              "    }\n",
              "\n",
              "    .dataframe tbody tr th {\n",
              "        vertical-align: top;\n",
              "    }\n",
              "\n",
              "    .dataframe thead th {\n",
              "        text-align: right;\n",
              "    }\n",
              "</style>\n",
              "<table border=\"1\" class=\"dataframe\">\n",
              "  <thead>\n",
              "    <tr style=\"text-align: right;\">\n",
              "      <th></th>\n",
              "      <th>date</th>\n",
              "      <th>headline</th>\n",
              "    </tr>\n",
              "  </thead>\n",
              "  <tbody>\n",
              "    <tr>\n",
              "      <th>0</th>\n",
              "      <td>2007-01-01</td>\n",
              "      <td>AT&amp;T closes   billion BellSouth deal</td>\n",
              "    </tr>\n",
              "    <tr>\n",
              "      <th>1</th>\n",
              "      <td>2007-01-01</td>\n",
              "      <td>Apple posts options expenses stands by CEO Jobs</td>\n",
              "    </tr>\n",
              "    <tr>\n",
              "      <th>2</th>\n",
              "      <td>2007-01-02</td>\n",
              "      <td>Two senior execs leave Bank of America</td>\n",
              "    </tr>\n",
              "    <tr>\n",
              "      <th>3</th>\n",
              "      <td>2007-01-02</td>\n",
              "      <td>Apple options probe spotlights ex officials paper</td>\n",
              "    </tr>\n",
              "    <tr>\n",
              "      <th>4</th>\n",
              "      <td>2007-01-03</td>\n",
              "      <td>Pepsi Bottling says recorded   mln benefit in Q</td>\n",
              "    </tr>\n",
              "    <tr>\n",
              "      <th>...</th>\n",
              "      <td>...</td>\n",
              "      <td>...</td>\n",
              "    </tr>\n",
              "    <tr>\n",
              "      <th>35888</th>\n",
              "      <td>2016-08-12</td>\n",
              "      <td>BRIEF Microsoft buys Beam interactive livestre...</td>\n",
              "    </tr>\n",
              "    <tr>\n",
              "      <th>35889</th>\n",
              "      <td>2016-08-16</td>\n",
              "      <td>BRIEF BofA credit card delinquency and net cha...</td>\n",
              "    </tr>\n",
              "    <tr>\n",
              "      <th>35890</th>\n",
              "      <td>2016-08-16</td>\n",
              "      <td>BRIEF Jana Partners dissolves sole share stake...</td>\n",
              "    </tr>\n",
              "    <tr>\n",
              "      <th>35891</th>\n",
              "      <td>2016-08-16</td>\n",
              "      <td>BRIEF Omega Advisors dissolves share stake in ...</td>\n",
              "    </tr>\n",
              "    <tr>\n",
              "      <th>35892</th>\n",
              "      <td>2016-08-16</td>\n",
              "      <td>BRIEF Omega Advisors takes stake in Netflix cu...</td>\n",
              "    </tr>\n",
              "  </tbody>\n",
              "</table>\n",
              "<p>35893 rows × 2 columns</p>\n",
              "</div>"
            ],
            "text/plain": [
              "             date                                           headline\n",
              "0      2007-01-01               AT&T closes   billion BellSouth deal\n",
              "1      2007-01-01    Apple posts options expenses stands by CEO Jobs\n",
              "2      2007-01-02             Two senior execs leave Bank of America\n",
              "3      2007-01-02  Apple options probe spotlights ex officials paper\n",
              "4      2007-01-03   Pepsi Bottling says recorded   mln benefit in Q \n",
              "...           ...                                                ...\n",
              "35888  2016-08-12  BRIEF Microsoft buys Beam interactive livestre...\n",
              "35889  2016-08-16  BRIEF BofA credit card delinquency and net cha...\n",
              "35890  2016-08-16  BRIEF Jana Partners dissolves sole share stake...\n",
              "35891  2016-08-16  BRIEF Omega Advisors dissolves share stake in ...\n",
              "35892  2016-08-16  BRIEF Omega Advisors takes stake in Netflix cu...\n",
              "\n",
              "[35893 rows x 2 columns]"
            ]
          },
          "metadata": {},
          "execution_count": 7
        }
      ]
    },
    {
      "cell_type": "code",
      "metadata": {
        "colab": {
          "base_uri": "https://localhost:8080/",
          "height": 424
        },
        "id": "XCVAZtsWaI-H",
        "outputId": "b49e0d74-23c9-4ed1-f773-65437f38159a"
      },
      "source": [
        "df = df.groupby(['date'])['headline'].apply(lambda x: '. '.join(x)).reset_index()\n",
        "df"
      ],
      "execution_count": null,
      "outputs": [
        {
          "output_type": "execute_result",
          "data": {
            "text/html": [
              "<div>\n",
              "<style scoped>\n",
              "    .dataframe tbody tr th:only-of-type {\n",
              "        vertical-align: middle;\n",
              "    }\n",
              "\n",
              "    .dataframe tbody tr th {\n",
              "        vertical-align: top;\n",
              "    }\n",
              "\n",
              "    .dataframe thead th {\n",
              "        text-align: right;\n",
              "    }\n",
              "</style>\n",
              "<table border=\"1\" class=\"dataframe\">\n",
              "  <thead>\n",
              "    <tr style=\"text-align: right;\">\n",
              "      <th></th>\n",
              "      <th>date</th>\n",
              "      <th>headline</th>\n",
              "    </tr>\n",
              "  </thead>\n",
              "  <tbody>\n",
              "    <tr>\n",
              "      <th>0</th>\n",
              "      <td>2007-01-01</td>\n",
              "      <td>AT&amp;T closes   billion BellSouth deal. Apple po...</td>\n",
              "    </tr>\n",
              "    <tr>\n",
              "      <th>1</th>\n",
              "      <td>2007-01-02</td>\n",
              "      <td>Two senior execs leave Bank of America. Apple ...</td>\n",
              "    </tr>\n",
              "    <tr>\n",
              "      <th>2</th>\n",
              "      <td>2007-01-03</td>\n",
              "      <td>Pepsi Bottling says recorded   mln benefit in Q</td>\n",
              "    </tr>\n",
              "    <tr>\n",
              "      <th>3</th>\n",
              "      <td>2007-01-04</td>\n",
              "      <td>US STOCKS Intel drives Nasdaq up more than  pe...</td>\n",
              "    </tr>\n",
              "    <tr>\n",
              "      <th>4</th>\n",
              "      <td>2007-01-05</td>\n",
              "      <td>Fox business channel lands Time Warner Cable deal</td>\n",
              "    </tr>\n",
              "    <tr>\n",
              "      <th>...</th>\n",
              "      <td>...</td>\n",
              "      <td>...</td>\n",
              "    </tr>\n",
              "    <tr>\n",
              "      <th>2814</th>\n",
              "      <td>2016-08-09</td>\n",
              "      <td>AT&amp;T to pay    mln for allowing sham directory...</td>\n",
              "    </tr>\n",
              "    <tr>\n",
              "      <th>2815</th>\n",
              "      <td>2016-08-10</td>\n",
              "      <td>Police seek killer of Google worker found slai...</td>\n",
              "    </tr>\n",
              "    <tr>\n",
              "      <th>2816</th>\n",
              "      <td>2016-08-11</td>\n",
              "      <td>Protesters block entrance to Chevron facility ...</td>\n",
              "    </tr>\n",
              "    <tr>\n",
              "      <th>2817</th>\n",
              "      <td>2016-08-12</td>\n",
              "      <td>UK s FTSE rises to  month high Coca Cola HBC s...</td>\n",
              "    </tr>\n",
              "    <tr>\n",
              "      <th>2818</th>\n",
              "      <td>2016-08-16</td>\n",
              "      <td>BRIEF BofA credit card delinquency and net cha...</td>\n",
              "    </tr>\n",
              "  </tbody>\n",
              "</table>\n",
              "<p>2819 rows × 2 columns</p>\n",
              "</div>"
            ],
            "text/plain": [
              "            date                                           headline\n",
              "0     2007-01-01  AT&T closes   billion BellSouth deal. Apple po...\n",
              "1     2007-01-02  Two senior execs leave Bank of America. Apple ...\n",
              "2     2007-01-03   Pepsi Bottling says recorded   mln benefit in Q \n",
              "3     2007-01-04  US STOCKS Intel drives Nasdaq up more than  pe...\n",
              "4     2007-01-05  Fox business channel lands Time Warner Cable deal\n",
              "...          ...                                                ...\n",
              "2814  2016-08-09  AT&T to pay    mln for allowing sham directory...\n",
              "2815  2016-08-10  Police seek killer of Google worker found slai...\n",
              "2816  2016-08-11  Protesters block entrance to Chevron facility ...\n",
              "2817  2016-08-12  UK s FTSE rises to  month high Coca Cola HBC s...\n",
              "2818  2016-08-16  BRIEF BofA credit card delinquency and net cha...\n",
              "\n",
              "[2819 rows x 2 columns]"
            ]
          },
          "metadata": {},
          "execution_count": 8
        }
      ]
    },
    {
      "cell_type": "code",
      "metadata": {
        "id": "v8bOtqv_7oFD"
      },
      "source": [
        "# remove punctuation\n",
        "\n",
        "def remove_punct(text):\n",
        "    table = str.maketrans(\"\", \"\", string.punctuation)\n",
        "    return text.translate(table)"
      ],
      "execution_count": null,
      "outputs": []
    },
    {
      "cell_type": "code",
      "metadata": {
        "colab": {
          "base_uri": "https://localhost:8080/",
          "height": 424
        },
        "id": "WNCRdIBp7oFD",
        "outputId": "b6a25b38-934d-4819-cdf5-e896a5f8d4c8"
      },
      "source": [
        "df[\"headline\"] = df.headline.map(lambda x: remove_punct(x))\n",
        "df"
      ],
      "execution_count": null,
      "outputs": [
        {
          "output_type": "execute_result",
          "data": {
            "text/html": [
              "<div>\n",
              "<style scoped>\n",
              "    .dataframe tbody tr th:only-of-type {\n",
              "        vertical-align: middle;\n",
              "    }\n",
              "\n",
              "    .dataframe tbody tr th {\n",
              "        vertical-align: top;\n",
              "    }\n",
              "\n",
              "    .dataframe thead th {\n",
              "        text-align: right;\n",
              "    }\n",
              "</style>\n",
              "<table border=\"1\" class=\"dataframe\">\n",
              "  <thead>\n",
              "    <tr style=\"text-align: right;\">\n",
              "      <th></th>\n",
              "      <th>date</th>\n",
              "      <th>headline</th>\n",
              "    </tr>\n",
              "  </thead>\n",
              "  <tbody>\n",
              "    <tr>\n",
              "      <th>0</th>\n",
              "      <td>2007-01-01</td>\n",
              "      <td>ATT closes   billion BellSouth deal Apple post...</td>\n",
              "    </tr>\n",
              "    <tr>\n",
              "      <th>1</th>\n",
              "      <td>2007-01-02</td>\n",
              "      <td>Two senior execs leave Bank of America Apple o...</td>\n",
              "    </tr>\n",
              "    <tr>\n",
              "      <th>2</th>\n",
              "      <td>2007-01-03</td>\n",
              "      <td>Pepsi Bottling says recorded   mln benefit in Q</td>\n",
              "    </tr>\n",
              "    <tr>\n",
              "      <th>3</th>\n",
              "      <td>2007-01-04</td>\n",
              "      <td>US STOCKS Intel drives Nasdaq up more than  pe...</td>\n",
              "    </tr>\n",
              "    <tr>\n",
              "      <th>4</th>\n",
              "      <td>2007-01-05</td>\n",
              "      <td>Fox business channel lands Time Warner Cable deal</td>\n",
              "    </tr>\n",
              "    <tr>\n",
              "      <th>...</th>\n",
              "      <td>...</td>\n",
              "      <td>...</td>\n",
              "    </tr>\n",
              "    <tr>\n",
              "      <th>2814</th>\n",
              "      <td>2016-08-09</td>\n",
              "      <td>ATT to pay    mln for allowing sham directory ...</td>\n",
              "    </tr>\n",
              "    <tr>\n",
              "      <th>2815</th>\n",
              "      <td>2016-08-10</td>\n",
              "      <td>Police seek killer of Google worker found slai...</td>\n",
              "    </tr>\n",
              "    <tr>\n",
              "      <th>2816</th>\n",
              "      <td>2016-08-11</td>\n",
              "      <td>Protesters block entrance to Chevron facility ...</td>\n",
              "    </tr>\n",
              "    <tr>\n",
              "      <th>2817</th>\n",
              "      <td>2016-08-12</td>\n",
              "      <td>UK s FTSE rises to  month high Coca Cola HBC s...</td>\n",
              "    </tr>\n",
              "    <tr>\n",
              "      <th>2818</th>\n",
              "      <td>2016-08-16</td>\n",
              "      <td>BRIEF BofA credit card delinquency and net cha...</td>\n",
              "    </tr>\n",
              "  </tbody>\n",
              "</table>\n",
              "<p>2819 rows × 2 columns</p>\n",
              "</div>"
            ],
            "text/plain": [
              "            date                                           headline\n",
              "0     2007-01-01  ATT closes   billion BellSouth deal Apple post...\n",
              "1     2007-01-02  Two senior execs leave Bank of America Apple o...\n",
              "2     2007-01-03   Pepsi Bottling says recorded   mln benefit in Q \n",
              "3     2007-01-04  US STOCKS Intel drives Nasdaq up more than  pe...\n",
              "4     2007-01-05  Fox business channel lands Time Warner Cable deal\n",
              "...          ...                                                ...\n",
              "2814  2016-08-09  ATT to pay    mln for allowing sham directory ...\n",
              "2815  2016-08-10  Police seek killer of Google worker found slai...\n",
              "2816  2016-08-11  Protesters block entrance to Chevron facility ...\n",
              "2817  2016-08-12  UK s FTSE rises to  month high Coca Cola HBC s...\n",
              "2818  2016-08-16  BRIEF BofA credit card delinquency and net cha...\n",
              "\n",
              "[2819 rows x 2 columns]"
            ]
          },
          "metadata": {},
          "execution_count": 10
        }
      ]
    },
    {
      "cell_type": "code",
      "metadata": {
        "id": "DSwNm5qR7oFF"
      },
      "source": [
        "# Remove stopwords\n",
        "\n",
        "stop = set(stopwords.words(\"english\"))\n",
        "\n",
        "def remove_stopwords(text):\n",
        "    text = [word.lower() for word in text.split() if word.lower() not in stop]\n",
        "\n",
        "    return \" \".join(text)"
      ],
      "execution_count": null,
      "outputs": []
    },
    {
      "cell_type": "code",
      "metadata": {
        "colab": {
          "base_uri": "https://localhost:8080/"
        },
        "id": "lZv9LKDB7oFG",
        "outputId": "76551b2a-0108-4183-b290-90a46111469f"
      },
      "source": [
        "df[\"headline\"] = df[\"headline\"].map(remove_stopwords)\n",
        "df[\"headline\"]"
      ],
      "execution_count": null,
      "outputs": [
        {
          "output_type": "execute_result",
          "data": {
            "text/plain": [
              "0       att closes billion bellsouth deal apple posts ...\n",
              "1       two senior execs leave bank america apple opti...\n",
              "2              pepsi bottling says recorded mln benefit q\n",
              "3       us stocks intel drives nasdaq percent us stock...\n",
              "4       fox business channel lands time warner cable deal\n",
              "                              ...                        \n",
              "2814    att pay mln allowing sham directory assistance...\n",
              "2815    police seek killer google worker found slain m...\n",
              "2816    protesters block entrance chevron facility nig...\n",
              "2817    uk ftse rises month high coca cola hbc surges ...\n",
              "2818    brief bofa credit card delinquency net charge ...\n",
              "Name: headline, Length: 2819, dtype: object"
            ]
          },
          "metadata": {},
          "execution_count": 12
        }
      ]
    },
    {
      "cell_type": "markdown",
      "metadata": {
        "id": "pyAVeXsI7oFI"
      },
      "source": [
        "### Create Corpus and padded versions of sentences"
      ]
    },
    {
      "cell_type": "code",
      "metadata": {
        "id": "9MneVO5r7oFJ"
      },
      "source": [
        "def create_corpus_tk(df):\n",
        "    corpus = []\n",
        "    for text in df:\n",
        "        words = [word.lower() for word in word_tokenize(text)]\n",
        "        corpus.append(words)\n",
        "    return corpus"
      ],
      "execution_count": null,
      "outputs": []
    },
    {
      "cell_type": "code",
      "metadata": {
        "id": "1DtBSUYvBff1"
      },
      "source": [
        "train_index = np.load(path+\"exp1_train_ind.npy')\n",
        "test_index = np.load(path+\"exp1_test_ind.npy')"
      ],
      "execution_count": null,
      "outputs": []
    },
    {
      "cell_type": "code",
      "metadata": {
        "id": "0tLNpqUmt2Ld"
      },
      "source": [
        "X_train, X_test = df.iloc[train_index,:], df.iloc[test_index,:]"
      ],
      "execution_count": null,
      "outputs": []
    },
    {
      "cell_type": "code",
      "metadata": {
        "id": "Nnr7kTMd7oFJ"
      },
      "source": [
        "corpus = create_corpus_tk(X_train[\"headline\"])"
      ],
      "execution_count": null,
      "outputs": []
    },
    {
      "cell_type": "code",
      "metadata": {
        "colab": {
          "base_uri": "https://localhost:8080/"
        },
        "id": "tGdCZrjh7oFJ",
        "outputId": "19303c3b-8e93-4e83-b49f-e9be84207452"
      },
      "source": [
        "num_words = len(corpus)\n",
        "print(num_words)"
      ],
      "execution_count": null,
      "outputs": [
        {
          "output_type": "stream",
          "name": "stdout",
          "text": [
            "2350\n"
          ]
        }
      ]
    },
    {
      "cell_type": "code",
      "metadata": {
        "id": "hHJGJgYb7oFL"
      },
      "source": [
        "max_len = 200"
      ],
      "execution_count": null,
      "outputs": []
    },
    {
      "cell_type": "code",
      "metadata": {
        "id": "KBoSUbT47oFL"
      },
      "source": [
        "tokenizer = Tokenizer(num_words=num_words)\n",
        "tokenizer.fit_on_texts(X_train['headline'])"
      ],
      "execution_count": null,
      "outputs": []
    },
    {
      "cell_type": "code",
      "metadata": {
        "id": "klW-68iq7oFL"
      },
      "source": [
        "train_sequences = tokenizer.texts_to_sequences(X_train[\"headline\"])"
      ],
      "execution_count": null,
      "outputs": []
    },
    {
      "cell_type": "code",
      "metadata": {
        "id": "wTqY-8Pm7oFN"
      },
      "source": [
        "glove_train_padded = pad_sequences(\n",
        "    train_sequences, maxlen=max_len, truncating=\"post\", padding=\"post\"\n",
        ")"
      ],
      "execution_count": null,
      "outputs": []
    },
    {
      "cell_type": "code",
      "metadata": {
        "colab": {
          "base_uri": "https://localhost:8080/"
        },
        "id": "ROCRbC0S7oFN",
        "outputId": "14247ccd-0ecc-40df-a66e-883a97a01d22"
      },
      "source": [
        "train_padded"
      ],
      "execution_count": null,
      "outputs": [
        {
          "output_type": "execute_result",
          "data": {
            "text/plain": [
              "array([[   4, 1340,  116, ...,    0,    0,    0],\n",
              "       [ 244,  348, 1833, ...,    0,    0,    0],\n",
              "       [ 187,  456,   33, ...,    0,    0,    0],\n",
              "       ...,\n",
              "       [ 423, 1125,   74, ...,    0,    0,    0],\n",
              "       [  30,   51,  123, ...,    0,    0,    0],\n",
              "       [ 520,  193,  252, ...,    0,    0,    0]], dtype=int32)"
            ]
          },
          "metadata": {},
          "execution_count": 27
        }
      ]
    },
    {
      "cell_type": "code",
      "metadata": {
        "id": "9Jk7QJqH7oFN"
      },
      "source": [
        "test_sequences = tokenizer.texts_to_sequences(X_test['headline'])\n",
        "glove_test_padded = pad_sequences(\n",
        "    test_sequences, maxlen=max_len, padding=\"post\", truncating=\"post\"\n",
        ")"
      ],
      "execution_count": null,
      "outputs": []
    },
    {
      "cell_type": "code",
      "metadata": {
        "colab": {
          "base_uri": "https://localhost:8080/"
        },
        "id": "e14EPcFH7oFN",
        "outputId": "71fd0f44-fa94-4a93-9768-01dadfec297c"
      },
      "source": [
        "print(X_train.headline[0])\n",
        "print(train_sequences[0])"
      ],
      "execution_count": null,
      "outputs": [
        {
          "output_type": "stream",
          "name": "stdout",
          "text": [
            "att closes billion bellsouth deal apple posts options expenses stands ceo jobs\n",
            "[4, 1340, 116, 72, 2, 1532, 427, 55, 364]\n"
          ]
        }
      ]
    },
    {
      "cell_type": "code",
      "metadata": {
        "colab": {
          "base_uri": "https://localhost:8080/"
        },
        "id": "kP1aBHUi7oFO",
        "outputId": "972904cc-963a-4c04-87bb-9fa2c4c5504c"
      },
      "source": [
        "word_index = tokenizer.word_index\n",
        "print(\"Number of unique words:\", len(word_index))"
      ],
      "execution_count": null,
      "outputs": [
        {
          "output_type": "stream",
          "name": "stdout",
          "text": [
            "Number of unique words: 25238\n"
          ]
        }
      ]
    },
    {
      "cell_type": "markdown",
      "metadata": {
        "id": "p4NW2jli7oFP"
      },
      "source": [
        "### Create the embedding dictionary"
      ]
    },
    {
      "cell_type": "code",
      "metadata": {
        "id": "B-sQSd7e7oFP"
      },
      "source": [
        "embedding_dict = {}\n",
        "\n",
        "with open('glove.6B.300d.txt', encoding='utf-8') as f:\n",
        "    for line in f:\n",
        "        values = line.split()\n",
        "        word = values[0]\n",
        "        vectors = np.asarray(values[1:], \"float32\")\n",
        "        embedding_dict[word] = vectors\n",
        "f.close()"
      ],
      "execution_count": null,
      "outputs": []
    },
    {
      "cell_type": "code",
      "metadata": {
        "id": "elkD1mwG7oFW"
      },
      "source": [
        "num_words = len(word_index) + 1\n",
        "embedding_matrix = np.zeros((num_words, 300))\n",
        "\n",
        "for word, i in word_index.items():\n",
        "    if i < num_words:\n",
        "        emb_vec = embedding_dict.get(word)\n",
        "        if emb_vec is not None:\n",
        "            embedding_matrix[i] = emb_vec"
      ],
      "execution_count": null,
      "outputs": []
    },
    {
      "cell_type": "markdown",
      "metadata": {
        "id": "DryDXBn3pZX7"
      },
      "source": [
        "## Load and Prepare Other Data"
      ]
    },
    {
      "cell_type": "code",
      "metadata": {
        "id": "uhu2hJBQh4W8"
      },
      "source": [
        "train_labels = pd.read_csv(path+\"exp1_train_labels.csv\", header=0)\n",
        "test_labels = pd.read_csv(path+\"exp1_test_labels.csv\", header=0)"
      ],
      "execution_count": null,
      "outputs": []
    },
    {
      "cell_type": "code",
      "metadata": {
        "colab": {
          "base_uri": "https://localhost:8080/"
        },
        "id": "tZ0JwbYAydGM",
        "outputId": "6da268d2-626a-452e-8a61-2a6db13b413e"
      },
      "source": [
        "train_labels.sum()"
      ],
      "execution_count": null,
      "outputs": [
        {
          "output_type": "execute_result",
          "data": {
            "text/plain": [
              "up      455\n",
              "stay    805\n",
              "down    674\n",
              "dtype: int64"
            ]
          },
          "metadata": {},
          "execution_count": 4
        }
      ]
    },
    {
      "cell_type": "code",
      "metadata": {
        "id": "jsYVYLS5XxL_",
        "colab": {
          "base_uri": "https://localhost:8080/"
        },
        "outputId": "ef74d0df-2631-42a2-dad0-e17f9f32ee9a"
      },
      "source": [
        "continuous_target = pd.read_csv(path+\"exp1_cont_target.csv\", header=0)\n",
        "continuous_target"
      ],
      "execution_count": null,
      "outputs": [
        {
          "output_type": "execute_result",
          "data": {
            "text/html": [
              "<div>\n",
              "<style scoped>\n",
              "    .dataframe tbody tr th:only-of-type {\n",
              "        vertical-align: middle;\n",
              "    }\n",
              "\n",
              "    .dataframe tbody tr th {\n",
              "        vertical-align: top;\n",
              "    }\n",
              "\n",
              "    .dataframe thead th {\n",
              "        text-align: right;\n",
              "    }\n",
              "</style>\n",
              "<table border=\"1\" class=\"dataframe\">\n",
              "  <thead>\n",
              "    <tr style=\"text-align: right;\">\n",
              "      <th></th>\n",
              "      <th>daily_diff</th>\n",
              "    </tr>\n",
              "  </thead>\n",
              "  <tbody>\n",
              "    <tr>\n",
              "      <th>0</th>\n",
              "      <td>-0.12</td>\n",
              "    </tr>\n",
              "    <tr>\n",
              "      <th>1</th>\n",
              "      <td>-0.89</td>\n",
              "    </tr>\n",
              "    <tr>\n",
              "      <th>2</th>\n",
              "      <td>0.30</td>\n",
              "    </tr>\n",
              "    <tr>\n",
              "      <th>3</th>\n",
              "      <td>-0.48</td>\n",
              "    </tr>\n",
              "    <tr>\n",
              "      <th>4</th>\n",
              "      <td>0.05</td>\n",
              "    </tr>\n",
              "    <tr>\n",
              "      <th>...</th>\n",
              "      <td>...</td>\n",
              "    </tr>\n",
              "    <tr>\n",
              "      <th>2315</th>\n",
              "      <td>0.26</td>\n",
              "    </tr>\n",
              "    <tr>\n",
              "      <th>2316</th>\n",
              "      <td>0.50</td>\n",
              "    </tr>\n",
              "    <tr>\n",
              "      <th>2317</th>\n",
              "      <td>-0.25</td>\n",
              "    </tr>\n",
              "    <tr>\n",
              "      <th>2318</th>\n",
              "      <td>-0.06</td>\n",
              "    </tr>\n",
              "    <tr>\n",
              "      <th>2319</th>\n",
              "      <td>0.60</td>\n",
              "    </tr>\n",
              "  </tbody>\n",
              "</table>\n",
              "<p>2320 rows × 1 columns</p>\n",
              "</div>"
            ],
            "text/plain": [
              "      daily_diff\n",
              "0          -0.12\n",
              "1          -0.89\n",
              "2           0.30\n",
              "3          -0.48\n",
              "4           0.05\n",
              "...          ...\n",
              "2315        0.26\n",
              "2316        0.50\n",
              "2317       -0.25\n",
              "2318       -0.06\n",
              "2319        0.60\n",
              "\n",
              "[2320 rows x 1 columns]"
            ]
          },
          "metadata": {},
          "execution_count": 5
        }
      ]
    },
    {
      "cell_type": "code",
      "metadata": {
        "id": "BmIaHsQbgVWI"
      },
      "source": [
        "# Now comes from earlier code cells\n",
        "# glove_train_padded = np.load(path+\"exp1_train_padded.npy')\n",
        "# glove_test_padded = np.load(path+\"exp1_test_padded.npy')\n",
        "# train_index = np.load(path+\"exp1_train_ind.npy')\n",
        "# test_index = np.load(path+\"exp1_test_ind.npy')"
      ],
      "execution_count": null,
      "outputs": []
    },
    {
      "cell_type": "code",
      "metadata": {
        "id": "_U90p04qExtw"
      },
      "source": [
        "bert_embeddings = np.load(path+\"exp1_bert_embeddings.npy')"
      ],
      "execution_count": null,
      "outputs": []
    },
    {
      "cell_type": "code",
      "metadata": {
        "id": "E_pqmGNvhtc4"
      },
      "source": [
        "train_targets = continuous_target.iloc[train_index]\n",
        "test_targets = continuous_target.iloc[test_index]"
      ],
      "execution_count": null,
      "outputs": []
    },
    {
      "cell_type": "code",
      "metadata": {
        "id": "kyLDFfLH1W8r"
      },
      "source": [
        "bert_X_train = bert_embeddings[train_index]\n",
        "bert_X_test = bert_embeddings[test_index]"
      ],
      "execution_count": null,
      "outputs": []
    },
    {
      "cell_type": "code",
      "metadata": {
        "id": "-XpMBay9LoI-"
      },
      "source": [
        "scaler = StandardScaler()\n",
        "train_targets = scaler.fit_transform(train_targets)\n",
        "test_targets = scaler.transform(test_targets)"
      ],
      "execution_count": null,
      "outputs": []
    },
    {
      "cell_type": "code",
      "metadata": {
        "id": "dPMom9NGd-29"
      },
      "source": [
        "def scheduler(epoch, lr):\n",
        "    if epoch < 10:\n",
        "        return lr\n",
        "    else:\n",
        "        return lr * tf.math.exp(-0.05)"
      ],
      "execution_count": null,
      "outputs": []
    },
    {
      "cell_type": "code",
      "metadata": {
        "id": "1ruRVo48aG25"
      },
      "source": [
        "es = EarlyStopping(monitor=\"accuracy\", min_delta=0, patience=20)\n",
        "lr_sched = LearningRateScheduler(scheduler)\n",
        "class_weight = {0: 2,\n",
        "                1: 1,\n",
        "                2: 1.5}"
      ],
      "execution_count": null,
      "outputs": []
    },
    {
      "cell_type": "markdown",
      "metadata": {
        "id": "1P7UfaMqpcIm"
      },
      "source": [
        "## BERT Classification"
      ]
    },
    {
      "cell_type": "code",
      "metadata": {
        "colab": {
          "base_uri": "https://localhost:8080/"
        },
        "id": "CniqLBkhqe2f",
        "outputId": "b4eec2f4-f8b1-4e42-c454-4a32ecdc5cd6"
      },
      "source": [
        "layersize=  2000\n",
        "activationf = 'tanh'\n",
        "dropout = 0.3\n",
        "lr = 5e-07\n",
        "\n",
        "bertscores = []\n",
        "\n",
        "for time in range(0,50):\n",
        "     model = Sequential()\n",
        "     model.add(Dense(layersize, input_dim=768, activation=activationf))\n",
        "     model.add(Dropout(dropout))\n",
        "     model.add(Dense(layersize, activation=activationf))\n",
        "     model.add(Dropout(dropout))\n",
        "     model.add(Dense(3, activation='softmax'))\n",
        "\n",
        "     optimizer = Adam(learning_rate=lr)\n",
        "\n",
        "     model.compile(loss=\"categorical_crossentropy\", optimizer=optimizer, metrics=[\"accuracy\"])\n",
        "     model.fit(bert_X_train, train_labels, epochs=500, verbose=0, callbacks=[es, lr_sched], class_weight=class_weight, shuffle=False)\n",
        "     \n",
        "     y_pred = model.predict(bert_X_test)\n",
        "     y_pred = (y_pred == y_pred.max(axis=1)[:,None]).astype(int)\n",
        "     \n",
        "     bertscore = f1_score(test_labels, y_pred, average='weighted')\n",
        "     bertscores.append(bertscore)\n",
        "     \n",
        "     del model\n",
        "     K.clear_session()\n",
        "     tf.compat.v1.reset_default_graph()\n",
        "\n",
        "print(np.array(bertscores).mean())\n",
        "print(np.array(bertscores).std())"
      ],
      "execution_count": null,
      "outputs": [
        {
          "output_type": "stream",
          "name": "stdout",
          "text": [
            "0.3532093462029939\n",
            "0.02350962314807053\n"
          ]
        }
      ]
    },
    {
      "cell_type": "markdown",
      "metadata": {
        "id": "E0jQjJbJ0OQ4"
      },
      "source": [
        "### Use last prediction as sample prediction"
      ]
    },
    {
      "cell_type": "code",
      "metadata": {
        "colab": {
          "base_uri": "https://localhost:8080/"
        },
        "id": "iCbg8PQEoduy",
        "outputId": "d1c7b0cf-bfc2-4864-f11d-d7359cce1a72"
      },
      "source": [
        "multilabel_confusion_matrix(test_labels, y_pred)"
      ],
      "execution_count": null,
      "outputs": [
        {
          "output_type": "execute_result",
          "data": {
            "text/plain": [
              "array([[[201,  98],\n",
              "        [ 60,  27]],\n",
              "\n",
              "       [[170,  60],\n",
              "        [105,  51]],\n",
              "\n",
              "       [[149,  94],\n",
              "        [ 87,  56]]])"
            ]
          },
          "metadata": {},
          "execution_count": 17
        }
      ]
    },
    {
      "cell_type": "code",
      "metadata": {
        "id": "BnEwTHPoqW2y"
      },
      "source": [
        "def print_confusion_matrix(confusion_matrix, axes, class_label, class_names, fontsize=14):\n",
        "\n",
        "    df_cm = pd.DataFrame(\n",
        "        confusion_matrix, index=class_names, columns=class_names,\n",
        "    )\n",
        "\n",
        "    try:\n",
        "        heatmap = sns.heatmap(df_cm, annot=True, fmt=\"d\", cbar=False, ax=axes)\n",
        "    except ValueError:\n",
        "        raise ValueError(\"Confusion matrix values must be integers.\")\n",
        "    heatmap.yaxis.set_ticklabels(heatmap.yaxis.get_ticklabels(), rotation=0, ha='right', fontsize=fontsize)\n",
        "    heatmap.xaxis.set_ticklabels(heatmap.xaxis.get_ticklabels(), rotation=45, ha='right', fontsize=fontsize)\n",
        "    axes.set_ylabel('True label')\n",
        "    axes.set_xlabel('Predicted label')\n",
        "    axes.set_title(\"Confusion Matrix for the class - \" + class_label)"
      ],
      "execution_count": null,
      "outputs": []
    },
    {
      "cell_type": "code",
      "metadata": {
        "colab": {
          "base_uri": "https://localhost:8080/",
          "height": 369
        },
        "id": "4umfYHNDqaBa",
        "outputId": "f02ded05-7a17-4486-df37-3d0a91689a7b"
      },
      "source": [
        "multilabel_confusion_matrix(test_labels, y_pred)\n",
        "\n",
        "fig, ax = plt.subplots(1, 3, figsize=(15, 5))\n",
        "\n",
        "labels = [\"up\", \"down\", \"stay\"]\n",
        "    \n",
        "for axes, cfs_matrix, label in zip(ax.flatten(), multilabel_confusion_matrix(test_labels, y_pred), labels):\n",
        "        print_confusion_matrix(cfs_matrix, axes, label, [\"N\", \"Y\"])\n",
        "    \n",
        "fig.tight_layout()\n",
        "plt.show()"
      ],
      "execution_count": null,
      "outputs": [
        {
          "output_type": "display_data",
          "data": {
            "image/png": "[encoded data removed]",
            "text/plain": [
              "<Figure size 1080x360 with 3 Axes>"
            ]
          },
          "metadata": {
            "needs_background": "light"
          }
        }
      ]
    },
    {
      "cell_type": "markdown",
      "metadata": {
        "id": "zjX4XtNc33xf"
      },
      "source": [
        "## GloVe classification"
      ]
    },
    {
      "cell_type": "code",
      "metadata": {
        "colab": {
          "base_uri": "https://localhost:8080/"
        },
        "id": "53xD26lengrM",
        "outputId": "f849fc10-806b-4d66-811f-6129f2432feb"
      },
      "source": [
        "layersize=  1500\n",
        "activationf = 'tanh'\n",
        "dropout = 0.2\n",
        "lr=5e-06\n",
        "\n",
        "glovescores = []\n",
        "\n",
        "for time in range(0,50):\n",
        "     print(time)\n",
        "     model = Sequential()\n",
        "     model.add(\n",
        "               Embedding(\n",
        "                         74127,\n",
        "                         100,\n",
        "                         embeddings_initializer=Constant(glove_embedding_matrix),\n",
        "                         input_length=200,\n",
        "                         trainable=False))\n",
        "     model.add(Flatten())\n",
        "     model.add(Dense(layersize, activation=activationf))\n",
        "     model.add(Dropout(dropout))\n",
        "     model.add(Dense(layersize, activation=activationf))\n",
        "     model.add(Dropout(dropout))\n",
        "     model.add(Dense(3, activation='softmax'))\n",
        "        \n",
        "     optimizer = Adam(learning_rate=lr)\n",
        "        \n",
        "     model.compile(loss=\"categorical_crossentropy\", optimizer=optimizer, metrics=[\"accuracy\"])\n",
        "     model.fit(glove_train_padded, train_labels, epochs=500, verbose=0, callbacks=[es, lr_sched], class_weight=class_weight, shuffle=False)\n",
        "     \n",
        "     y_pred = model.predict(glove_test_padded)\n",
        "     y_pred = (y_pred == y_pred.max(axis=1)[:,None]).astype(int)\n",
        "     \n",
        "     glovescore = f1_score(test_labels, y_pred, average='weighted')     \n",
        "     glovescores.append(glovescore)\n",
        "\n",
        "     del model\n",
        "     K.clear_session()\n",
        "     tf.compat.v1.reset_default_graph()\n",
        "\n",
        "print(np.array(glovescores).mean())\n",
        "print(np.array(glovescores).std())"
      ],
      "execution_count": null,
      "outputs": [
        {
          "output_type": "stream",
          "name": "stdout",
          "text": [
            "0.3656573067297979\n",
            "0.015777025214966225\n"
          ]
        }
      ]
    },
    {
      "cell_type": "markdown",
      "metadata": {
        "id": "Zr3FP7gi0K7T"
      },
      "source": [
        "### Sample prediction"
      ]
    },
    {
      "cell_type": "code",
      "metadata": {
        "id": "nIuXfzOiraPl"
      },
      "source": [
        "model = Sequential()\n",
        "model.add(\n",
        "    Embedding(\n",
        "        74127,\n",
        "        100,\n",
        "        embeddings_initializer=Constant(glove_embedding_matrix),\n",
        "        input_length=200,\n",
        "        trainable=False))\n",
        "model.add(Flatten())\n",
        "model.add(Dense(layersize, activation=activationf))\n",
        "model.add(Dropout(dropo))\n",
        "model.add(Dense(layersize, activation=activationf))\n",
        "model.add(Dropout(dropo))\n",
        "model.add(Dense(3, activation='softmax'))\n",
        "        \n",
        "optimizer = Adam(learning_rate=lr)\n",
        "        \n",
        "model.compile(loss=\"categorical_crossentropy\", optimizer=optimizer, metrics=[\"accuracy\"])\n",
        "        \n",
        "model.fit(glove_train_padded, train_labels, validation_data=(glove_test_padded, test_labels), epochs=500, verbose=0, callbacks=[es, lr_sched], class_weight=class_weight, shuffle=False)\n",
        "y_pred = model.predict(glove_test_padded)\n",
        "y_pred = (y_pred == y_pred.max(axis=1)[:,None]).astype(int)"
      ],
      "execution_count": null,
      "outputs": []
    },
    {
      "cell_type": "code",
      "metadata": {
        "colab": {
          "base_uri": "https://localhost:8080/",
          "height": 369
        },
        "id": "nUuQkwWArwxJ",
        "outputId": "3c12c4bb-4267-4a93-ff03-8ef4098f6513"
      },
      "source": [
        "multilabel_confusion_matrix(test_labels, y_pred)\n",
        "\n",
        "fig, ax = plt.subplots(1, 3, figsize=(15, 5))\n",
        "\n",
        "labels = [\"up\", \"stay\", \"down\"]\n",
        "    \n",
        "for axes, cfs_matrix, label in zip(ax.flatten(), multilabel_confusion_matrix(test_labels, y_pred), labels):\n",
        "        print_confusion_matrix(cfs_matrix, axes, label, [\"N\", \"Y\"])\n",
        "    \n",
        "fig.tight_layout()\n",
        "plt.show()"
      ],
      "execution_count": null,
      "outputs": [
        {
          "output_type": "display_data",
          "data": {
            "image/png": "[encoded data removed]",
            "text/plain": [
              "<Figure size 1080x360 with 3 Axes>"
            ]
          },
          "metadata": {
            "needs_background": "light"
          }
        }
      ]
    },
    {
      "cell_type": "markdown",
      "metadata": {
        "id": "Kkh2fdDNXDLW"
      },
      "source": [
        "## BERT Regression"
      ]
    },
    {
      "cell_type": "code",
      "metadata": {
        "id": "gqWOMEuaw8fQ",
        "colab": {
          "base_uri": "https://localhost:8080/"
        },
        "outputId": "780c2cb0-6f9a-4896-b54d-ab48753fca7f"
      },
      "source": [
        "layersize=  1250\n",
        "activationf = 'tanh'\n",
        "dropout = 0.2\n",
        "lr=5e-07\n",
        "bertscores = []\n",
        "\n",
        "for time in range(0,50):\n",
        "     model = Sequential()\n",
        "     model.add(Dense(layersize, input_dim=768, activation=activationf))\n",
        "     model.add(Dropout(dropout))\n",
        "     model.add(Dense(layersize, activation=activationf))\n",
        "     model.add(Dropout(dropout))\n",
        "     model.add(Dense(1, activation='linear'))\n",
        "\n",
        "     optimizer = Adam(learning_rate=lr)\n",
        "     \n",
        "     model.compile(loss=\"MeanAbsoluteError\", optimizer=optimizer, metrics=[\"accuracy\"])\n",
        "     model.fit(bert_X_train, train_targets, epochs=500, verbose=0, callbacks=[es, lr_sched], shuffle=False)\n",
        "     \n",
        "     y_pred = model.predict(bert_X_test)\n",
        "     y_pred = scaler.inverse_transform(y_pred)\n",
        "     \n",
        "     bertscore = mean_absolute_error(test_targets, y_pred)\n",
        "     bertscores.append(bertscore)\n",
        "\n",
        "     del model\n",
        "     K.clear_session()\n",
        "     tf.compat.v1.reset_default_graph()\n",
        "\n",
        "print(np.array(bertscores).mean())\n",
        "print(np.array(bertscores).std())"
      ],
      "execution_count": null,
      "outputs": [
        {
          "output_type": "stream",
          "name": "stdout",
          "text": [
            "0.5367505909569126\n",
            "0.015635902444600173\n"
          ]
        }
      ]
    },
    {
      "cell_type": "markdown",
      "metadata": {
        "id": "0q8bN_wvPWzY"
      },
      "source": [
        "### Sample Prediction"
      ]
    },
    {
      "cell_type": "code",
      "metadata": {
        "id": "7P7A3U7nMVGN"
      },
      "source": [
        "layersize=  1250\n",
        "activationf = 'tanh'\n",
        "dropo= 0.2\n",
        "lr=5e-07\n",
        "bertscores = []"
      ],
      "execution_count": null,
      "outputs": []
    },
    {
      "cell_type": "code",
      "metadata": {
        "colab": {
          "base_uri": "https://localhost:8080/"
        },
        "id": "B54Y6nxpMRhk",
        "outputId": "acea7269-aee9-4c7b-e6a4-59db6288feea"
      },
      "source": [
        "model = Sequential()\n",
        "model.add(Dense(layersize, input_dim=768, activation=activationf))\n",
        "model.add(Dropout(dropo))\n",
        "model.add(Dense(layersize, activation=activationf))\n",
        "model.add(Dropout(dropo))\n",
        "model.add(Dense(1, activation='linear'))\n",
        "\n",
        "optimizer = Adam(learning_rate=lr)\n",
        "\n",
        "model.compile(loss=\"MeanAbsoluteError\", optimizer=optimizer, metrics=[\"accuracy\"])\n",
        "model.fit(bert_X_train, train_targets, validation_data=(bert_X_test, test_targets), epochs=500, verbose=0, callbacks=[es, lr_sched], shuffle=False)\n",
        "\n",
        "y_pred = model.predict(bert_X_test)\n",
        "y_pred = scaler.inverse_transform(y_pred)\n",
        "\n",
        "bertscore = mean_absolute_error(test_targets, y_pred)\n",
        "bertscore"
      ],
      "execution_count": null,
      "outputs": [
        {
          "output_type": "execute_result",
          "data": {
            "text/plain": [
              "0.5474617662505067"
            ]
          },
          "metadata": {},
          "execution_count": 29
        }
      ]
    },
    {
      "cell_type": "code",
      "metadata": {
        "id": "QA7O3LrIMc8k"
      },
      "source": [
        "bert_errors = y_pred - test_targets"
      ],
      "execution_count": null,
      "outputs": []
    },
    {
      "cell_type": "markdown",
      "metadata": {
        "id": "dOrg0jn4KU0w"
      },
      "source": [
        "## GloVe Regression"
      ]
    },
    {
      "cell_type": "code",
      "metadata": {
        "id": "b3hPrpNPTWgU",
        "colab": {
          "base_uri": "https://localhost:8080/"
        },
        "outputId": "01e4814c-9789-4aab-c9a8-add4c83398b7"
      },
      "source": [
        "layersize=  1250\n",
        "activationf = 'tanh'\n",
        "dropout= 0.2\n",
        "lr=5e-05\n",
        "\n",
        "glovescores = []\n",
        "\n",
        "for time in range(0,50):\n",
        "\n",
        "  model = Sequential()\n",
        "  model.add(\n",
        "    Embedding(\n",
        "        74127,\n",
        "        100,\n",
        "        embeddings_initializer=Constant(glove_embedding_matrix),\n",
        "        input_length=200,\n",
        "        trainable=False))\n",
        "  model.add(Flatten())\n",
        "  model.add(Dense(layersize, activation=activationf))\n",
        "  model.add(Dropout(dropo))\n",
        "  model.add(Dense(layersize, activation=activationf))\n",
        "  model.add(Dropout(dropo))\n",
        "  model.add(Dense(1, activation='linear'))\n",
        "\n",
        "  optimizer = Adam(learning_rate=lr)\n",
        "\n",
        "  model.compile(loss=\"MeanAbsoluteError\", optimizer=optimizer, metrics=[\"accuracy\"])\n",
        "        \n",
        "  model.fit(glove_train_padded, train_targets, epochs=500, verbose=0, callbacks=[es, lr_sched], shuffle=False)\n",
        "  y_pred = model.predict(glove_test_padded)\n",
        "  glovescore = mean_absolute_error(test_targets, y_pred)\n",
        "          \n",
        "  glovescores.append(glovescore)\n",
        "  del model\n",
        "  K.clear_session()\n",
        "  tf.compat.v1.reset_default_graph()\n",
        "\n",
        "print(np.array(glovescores).mean())\n",
        "print(np.array(glovescores).std())"
      ],
      "execution_count": null,
      "outputs": [
        {
          "output_type": "stream",
          "name": "stdout",
          "text": [
            "0.5433733514285208\n",
            "0.00725106762082418\n"
          ]
        }
      ]
    },
    {
      "cell_type": "markdown",
      "metadata": {
        "id": "RMu2DlhUPZWy"
      },
      "source": [
        "### Sample Prediction & Graph"
      ]
    },
    {
      "cell_type": "code",
      "metadata": {
        "id": "DkaQ2I1kMnLd"
      },
      "source": [
        "layersize=  2000\n",
        "activationf = 'tanh'\n",
        "dropo= 0.4\n",
        "lr=5e-06"
      ],
      "execution_count": null,
      "outputs": []
    },
    {
      "cell_type": "code",
      "metadata": {
        "colab": {
          "base_uri": "https://localhost:8080/"
        },
        "id": "S4IKtJQSMov-",
        "outputId": "e42fa78e-29b3-4653-c479-45d612ab6c29"
      },
      "source": [
        "model = Sequential()\n",
        "model.add(Embedding(74127, 100, embeddings_initializer=Constant(glove_embedding_matrix),input_length=200, trainable=False))\n",
        "model.add(Flatten())\n",
        "model.add(Dense(layersize, activation=activationf))\n",
        "model.add(Dropout(dropo))\n",
        "model.add(Dense(layersize, activation=activationf))\n",
        "model.add(Dropout(dropo))\n",
        "model.add(Dense(1, activation='linear'))\n",
        "\n",
        "optimizer = Adam(learning_rate=lr)\n",
        "        \n",
        "model.compile(loss=\"MeanAbsoluteError\", optimizer=optimizer, metrics=[\"accuracy\"])\n",
        "model.fit(glove_train_padded, train_targets, validation_data=(glove_test_padded, test_targets), epochs=500, verbose=0, callbacks=[es, lr_sched], shuffle=False)\n",
        "\n",
        "y_pred = model.predict(glove_test_padded)\n",
        "\n",
        "glovescore = mean_absolute_error(test_targets, y_pred)\n",
        "glovescore"
      ],
      "execution_count": null,
      "outputs": [
        {
          "output_type": "execute_result",
          "data": {
            "text/plain": [
              "0.527274633211169"
            ]
          },
          "metadata": {},
          "execution_count": 33
        }
      ]
    },
    {
      "cell_type": "code",
      "metadata": {
        "id": "QnOWdQOHWMah"
      },
      "source": [
        "glove_errors = y_pred - test_targets"
      ],
      "execution_count": null,
      "outputs": []
    },
    {
      "cell_type": "code",
      "metadata": {
        "colab": {
          "base_uri": "https://localhost:8080/",
          "height": 666
        },
        "id": "m8VgDYtNWgPW",
        "outputId": "8de784a0-25b0-4184-9d91-859e28f20daa"
      },
      "source": [
        "plt.plot(np.array(bert_errors), label=\"BERT\", alpha=0.7, color='red')\n",
        "plt.plot(np.array(glove_errors), label=\"GloVe\", alpha=0.7, color='blue')\n",
        "plt.plot(np.zeros_like(bert_errors), color='black')\n",
        "plt.legend()\n",
        "plt.title('Error Over Test Set', fontdict={'weight': 'bold', 'size': 25})\n",
        "plt.xlabel('Day of Test Set', fontdict={'weight': 'bold', 'size': 18})\n",
        "plt.ylabel('Error', fontdict={'weight': 'bold', 'size': 18})\n",
        "fig = plt.gcf()\n",
        "fig.set_size_inches(18.5, 10.5)"
      ],
      "execution_count": null,
      "outputs": [
        {
          "output_type": "display_data",
          "data": {
            "image/png": "[encoded data removed]",
            "text/plain": [
              "<Figure size 1332x756 with 1 Axes>"
            ]
          },
          "metadata": {
            "needs_background": "light"
          }
        }
      ]
    }
  ]
}